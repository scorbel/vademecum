{
 "cells": [
  {
   "cell_type": "markdown",
   "metadata": {},
   "source": [
    "# Statistiques Devoir 1"
   ]
  },
  {
   "cell_type": "markdown",
   "metadata": {},
   "source": [
    "Sophie Corbel"
   ]
  },
  {
   "cell_type": "code",
   "execution_count": 80,
   "metadata": {
    "collapsed": true
   },
   "outputs": [],
   "source": [
    "#import des libraries nécessaires aux 3 exercices\n",
    "import numpy as np\n",
    "import pandas as pd\n",
    "import statsmodels.api as sm\n",
    "from sklearn import preprocessing\n",
    "from sklearn import linear_model\n",
    "from scipy.stats import t\n",
    "import math\n",
    "import seaborn as sns\n",
    "import matplotlib.pyplot as plt\n",
    "from IPython.display import display, Math, Latex\n",
    "from sklearn.utils import resample\n",
    "from IPython.display import clear_output\n",
    "from sklearn.linear_model.base import LinearModel, _pre_fit\n",
    "from sklearn.base import RegressorMixin\n",
    "\n",
    "%matplotlib inline"
   ]
  },
  {
   "cell_type": "markdown",
   "metadata": {},
   "source": [
    "###Exercice 1"
   ]
  },
  {
   "cell_type": "markdown",
   "metadata": {},
   "source": [
    "#### 1) Écrire mathématiquement le modèle linéaire correspondant"
   ]
  },
  {
   "cell_type": "markdown",
   "metadata": {},
   "source": [
    "Il s'agit du modèle :"
   ]
  },
  {
   "cell_type": "markdown",
   "metadata": {},
   "source": [
    "$y_i = {\\theta}_0^{*} + \\sum_{j=1}^{p} {\\theta}_j^{*}x_{ij} + {\\epsilon}_i$    \n",
    "avec : ${\\epsilon}_i = {\\cal{N}}(0,{\\sigma}^2)~~~~~~~~~~ \\forall i = 1,...,n$"
   ]
  },
  {
   "cell_type": "markdown",
   "metadata": {},
   "source": [
    "$y_i$ est une observation ici la concentration en ozone\n",
    "\n",
    "$x_{ij}$ est une variable explicative ici l'ensemble des variables du fichier airquality exceptée ozone\n",
    "\n",
    "${\\epsilon}_i$ est un bruit supposé i.i.d, gaussien\n",
    "\n",
    "Un estimateur naturel des ${\\theta}_j^{*}$ s'évalue par la méthode des moindres carrés"
   ]
  },
  {
   "cell_type": "markdown",
   "metadata": {
    "collapsed": true
   },
   "source": [
    "#### 2)+3) Récupération du jeu de données et élimination des lignes comportant des valeurs manquantes (NaN)"
   ]
  },
  {
   "cell_type": "code",
   "execution_count": 2,
   "metadata": {
    "collapsed": false
   },
   "outputs": [
    {
     "data": {
      "text/html": [
       "<div>\n",
       "<table border=\"1\" class=\"dataframe\">\n",
       "  <thead>\n",
       "    <tr style=\"text-align: right;\">\n",
       "      <th></th>\n",
       "      <th>Ozone</th>\n",
       "      <th>Solar.R</th>\n",
       "      <th>Wind</th>\n",
       "      <th>Temp</th>\n",
       "      <th>Month</th>\n",
       "      <th>Day</th>\n",
       "    </tr>\n",
       "  </thead>\n",
       "  <tbody>\n",
       "    <tr>\n",
       "      <th>0</th>\n",
       "      <td>41</td>\n",
       "      <td>190</td>\n",
       "      <td>7.4</td>\n",
       "      <td>67</td>\n",
       "      <td>5</td>\n",
       "      <td>1</td>\n",
       "    </tr>\n",
       "    <tr>\n",
       "      <th>1</th>\n",
       "      <td>36</td>\n",
       "      <td>118</td>\n",
       "      <td>8.0</td>\n",
       "      <td>72</td>\n",
       "      <td>5</td>\n",
       "      <td>2</td>\n",
       "    </tr>\n",
       "    <tr>\n",
       "      <th>2</th>\n",
       "      <td>12</td>\n",
       "      <td>149</td>\n",
       "      <td>12.6</td>\n",
       "      <td>74</td>\n",
       "      <td>5</td>\n",
       "      <td>3</td>\n",
       "    </tr>\n",
       "    <tr>\n",
       "      <th>3</th>\n",
       "      <td>18</td>\n",
       "      <td>313</td>\n",
       "      <td>11.5</td>\n",
       "      <td>62</td>\n",
       "      <td>5</td>\n",
       "      <td>4</td>\n",
       "    </tr>\n",
       "    <tr>\n",
       "      <th>6</th>\n",
       "      <td>23</td>\n",
       "      <td>299</td>\n",
       "      <td>8.6</td>\n",
       "      <td>65</td>\n",
       "      <td>5</td>\n",
       "      <td>7</td>\n",
       "    </tr>\n",
       "  </tbody>\n",
       "</table>\n",
       "</div>"
      ],
      "text/plain": [
       "   Ozone  Solar.R  Wind  Temp  Month  Day\n",
       "0     41      190   7.4    67      5    1\n",
       "1     36      118   8.0    72      5    2\n",
       "2     12      149  12.6    74      5    3\n",
       "3     18      313  11.5    62      5    4\n",
       "6     23      299   8.6    65      5    7"
      ]
     },
     "execution_count": 2,
     "metadata": {},
     "output_type": "execute_result"
    }
   ],
   "source": [
    "data = sm.datasets.get_rdataset('airquality').data\n",
    "data = data.dropna(axis=0)\n",
    "data.head()"
   ]
  },
  {
   "cell_type": "markdown",
   "metadata": {},
   "source": [
    "#### 4) Application de la méthode des moindres carrés en régressant la varaible \"Ozone\" sur les 5 autres( utilisation de sklearn)"
   ]
  },
  {
   "cell_type": "code",
   "execution_count": 3,
   "metadata": {
    "collapsed": false
   },
   "outputs": [
    {
     "data": {
      "text/plain": [
       "LinearRegression(copy_X=True, fit_intercept=True, n_jobs=1, normalize=False)"
      ]
     },
     "execution_count": 3,
     "metadata": {},
     "output_type": "execute_result"
    }
   ],
   "source": [
    "X=data[['Solar.R','Wind','Temp','Month','Day']]\n",
    "Y=data['Ozone']\n",
    "skl_linmod = linear_model.LinearRegression()\n",
    "# Les variables explicatives sont centrées et réduites au préalable\n",
    "scaler = preprocessing.StandardScaler().fit(X)\n",
    "X=scaler.transform(X)\n",
    "skl_linmod.fit(X, Y)"
   ]
  },
  {
   "cell_type": "markdown",
   "metadata": {},
   "source": [
    "#### 5.1) Estimateur des moindres carrés des coefficients du modèle avec l'ordonnée à l'origine"
   ]
  },
  {
   "cell_type": "code",
   "execution_count": 40,
   "metadata": {
    "collapsed": false
   },
   "outputs": [
    {
     "data": {
      "text/latex": [
       "$${\\theta}_0^{*}=42.09909909909911$$"
      ],
      "text/plain": [
       "<IPython.core.display.Math object>"
      ]
     },
     "metadata": {},
     "output_type": "display_data"
    },
    {
     "data": {
      "text/latex": [
       "$${\\theta}_1^{*}[Solar.R]=4.56193075918141$$"
      ],
      "text/plain": [
       "<IPython.core.display.Math object>"
      ]
     },
     "metadata": {},
     "output_type": "display_data"
    },
    {
     "data": {
      "text/latex": [
       "$${\\theta}_1^{*}[Wind]=-11.752770844770941$$"
      ],
      "text/plain": [
       "<IPython.core.display.Math object>"
      ]
     },
     "metadata": {},
     "output_type": "display_data"
    },
    {
     "data": {
      "text/latex": [
       "$${\\theta}_1^{*}[Temp]=17.985219949517152$$"
      ],
      "text/plain": [
       "<IPython.core.display.Math object>"
      ]
     },
     "metadata": {},
     "output_type": "display_data"
    },
    {
     "data": {
      "text/latex": [
       "$${\\theta}_1^{*}[Month]=-4.4589529669811565$$"
      ],
      "text/plain": [
       "<IPython.core.display.Math object>"
      ]
     },
     "metadata": {},
     "output_type": "display_data"
    },
    {
     "data": {
      "text/latex": [
       "$${\\theta}_1^{*}[Day]=2.3739385876079613$$"
      ],
      "text/plain": [
       "<IPython.core.display.Math object>"
      ]
     },
     "metadata": {},
     "output_type": "display_data"
    }
   ],
   "source": [
    "display(Math(r'{\\theta}_0^{*}='+r'{0}'.format(skl_linmod.intercept_)))\n",
    "display(Math(r'{\\theta}_1^{*}[Solar.R]='+r'{0}'.format(skl_linmod.coef_[0])))\n",
    "display(Math(r'{\\theta}_1^{*}[Wind]='+r'{0}'.format(skl_linmod.coef_[1])))\n",
    "display(Math(r'{\\theta}_1^{*}[Temp]='+r'{0}'.format(skl_linmod.coef_[2])))\n",
    "display(Math(r'{\\theta}_1^{*}[Month]='+r'{0}'.format(skl_linmod.coef_[3])))\n",
    "display(Math(r'{\\theta}_1^{*}[Day]='+r'{0}'.format(skl_linmod.coef_[4])))\n"
   ]
  },
  {
   "cell_type": "markdown",
   "metadata": {},
   "source": [
    "#### 5.2) Expression théorique d'un estimateur sans biais de la variance du bruit et résultat"
   ]
  },
  {
   "cell_type": "markdown",
   "metadata": {},
   "source": [
    " ${\\widehat\\sigma}^2 = \\frac{1}{n-rg(X)}{\\left \\| y - X{\\widehat\\theta} \\right \\|}^2_2$"
   ]
  },
  {
   "cell_type": "code",
   "execution_count": 41,
   "metadata": {
    "collapsed": false
   },
   "outputs": [
    {
     "data": {
      "text/plain": [
       "435.07549499192351"
      ]
     },
     "execution_count": 41,
     "metadata": {},
     "output_type": "execute_result"
    }
   ],
   "source": [
    "residus = Y - skl_linmod.predict(X)\n",
    "#Le rang de la matrice utilisée par sklearn vaut rang(X)+1 , fit_intercept étant à True\n",
    "sigma2 = residus.dot(residus.T)/(Y.size-np.linalg.matrix_rank(X)-1)\n",
    "sigma2"
   ]
  },
  {
   "cell_type": "markdown",
   "metadata": {},
   "source": [
    "#### 6)Loi de Student: calcul de  intervalle de confiance à 99% pour chacun des ${\\theta}_j^{*}$ de la formule"
   ]
  },
  {
   "cell_type": "code",
   "execution_count": 67,
   "metadata": {
    "collapsed": false
   },
   "outputs": [
    {
     "data": {
      "text/latex": [
       "$$IC_0=[36.90516806540468,47.29303013279353]$$"
      ],
      "text/plain": [
       "<IPython.core.display.Math object>"
      ]
     },
     "metadata": {},
     "output_type": "display_data"
    },
    {
     "data": {
      "text/latex": [
       "$$IC[Solar.R]=[-1.0129918892308343,10.136853407593653]$$"
      ],
      "text/plain": [
       "<IPython.core.display.Math object>"
      ]
     },
     "metadata": {},
     "output_type": "display_data"
    },
    {
     "data": {
      "text/latex": [
       "$$IC[WInd]=[-17.741166714516574,-5.7643749750253095]$$"
      ],
      "text/plain": [
       "<IPython.core.display.Math object>"
      ]
     },
     "metadata": {},
     "output_type": "display_data"
    },
    {
     "data": {
      "text/latex": [
       "$$IC[Temp]=[11.168539528752126,24.801900370282176]$$"
      ],
      "text/plain": [
       "<IPython.core.display.Math object>"
      ]
     },
     "metadata": {},
     "output_type": "display_data"
    },
    {
     "data": {
      "text/latex": [
       "$$IC[Month]=[-10.282812480424136,1.3649065464618229]$$"
      ],
      "text/plain": [
       "<IPython.core.display.Math object>"
      ]
     },
     "metadata": {},
     "output_type": "display_data"
    },
    {
     "data": {
      "text/latex": [
       "$$IC[Day]=[-2.848751162381207,7.59662833759713]$$"
      ],
      "text/plain": [
       "<IPython.core.display.Math object>"
      ]
     },
     "metadata": {},
     "output_type": "display_data"
    }
   ],
   "source": [
    "nbDegresLiberte = Y.size-np.linalg.matrix_rank(X)-1\n",
    "interval = t.interval(0.99,nbDegresLiberte)\n",
    "XPlusOnes = np.c_[ np.ones( Y.size), X ]\n",
    "gramMatrix = XPlusOnes.T.dot(XPlusOnes)\n",
    "invGramMatrix = np.linalg.inv(gramMatrix)\n",
    "theta = theta1[:]\n",
    "theta = np.insert(theta,0,theta0)\n",
    "gap = interval[1]*math.sqrt(sigma2)*np.sqrt(invGramMatrix.diagonal())\n",
    "icStudentLow = theta - gap\n",
    "icStudentHigh = theta + gap\n",
    "display(Math(r'IC_0=['+r'{0}'.format(icStudentLow[0])+r','+r'{0}'.format(icStudentHigh[0])+r']'))\n",
    "display(Math(r'IC[Solar.R]=['+r'{0}'.format(icStudentLow[1])+r','+r'{0}'.format(icStudentHigh[1])+r']'))\n",
    "display(Math(r'IC[WInd]=['+r'{0}'.format(icStudentLow[2])+r','+r'{0}'.format(icStudentHigh[2])+r']'))\n",
    "display(Math(r'IC[Temp]=['+r'{0}'.format(icStudentLow[3])+r','+r'{0}'.format(icStudentHigh[3])+r']'))\n",
    "display(Math(r'IC[Month]=['+r'{0}'.format(icStudentLow[4])+r','+r'{0}'.format(icStudentHigh[4])+r']'))\n",
    "display(Math(r'IC[Day]=['+r'{0}'.format(icStudentLow[5])+r','+r'{0}'.format(icStudentHigh[5])+r']'))\n"
   ]
  },
  {
   "cell_type": "markdown",
   "metadata": {},
   "source": [
    "#### 7) Pertinence des variables \"Day\" et \"Month\" (condidérées séparément)"
   ]
  },
  {
   "cell_type": "markdown",
   "metadata": {},
   "source": [
    "Les intervalles de confiance des variables \"Day\" et \"Month\" contiennent la valeur 0, il est possible que ces variables ne soient pas significatives."
   ]
  },
  {
   "cell_type": "markdown",
   "metadata": {},
   "source": [
    "#### 8) Prévision du modèle avec l'observation Solar.R=17, Wind=10, Temp=70,Day=1,Month=3"
   ]
  },
  {
   "cell_type": "code",
   "execution_count": 86,
   "metadata": {
    "collapsed": false
   },
   "outputs": [
    {
     "data": {
      "text/plain": [
       "36.462337868083267"
      ]
     },
     "execution_count": 86,
     "metadata": {},
     "output_type": "execute_result"
    }
   ],
   "source": [
    "X1 = [[197.0,10.0,70.0,3.0,1.0]]\n",
    "#Scaler défini en 4)\n",
    "X1= scaler.transform(X1)\n",
    "Y1 = theta0 + X1.dot(theta1)\n",
    "Y1[0]"
   ]
  },
  {
   "cell_type": "markdown",
   "metadata": {},
   "source": [
    "###Exercice 2 Intervalle de confiance et bootstrap"
   ]
  },
  {
   "cell_type": "markdown",
   "metadata": {},
   "source": [
    "#### 1) Estimateurs des coefficients obtenus par une moyenne, puis par une médiane"
   ]
  },
  {
   "cell_type": "code",
   "execution_count": 74,
   "metadata": {
    "collapsed": false,
    "scrolled": false
   },
   "outputs": [],
   "source": [
    "# Fonction appliquant itérativement une régression linéaire sur une suite d'échantilons\n",
    "# obtenus par la fontion resample de sklearn\n",
    "# data : jeu de données\n",
    "# n_bootstraps : nombre d'itérations\n",
    "# n_exemples : taille de l'échantillon\n",
    "# skl_linmod : modèle sklearn\n",
    "# scaler : formatteur\n",
    "# la fonction retourne une liste des vecteurs de coefficients résultats de la régression\n",
    "def bootstrap_linear(data, n_bootstraps,n_exemples,skl_linmod,scaler):\n",
    "    bootstraps = []\n",
    "    for _ in range(n_bootstraps):\n",
    "        # Sample with replacement from data\n",
    "        samples = resample(data,n_samples = n_exemples)\n",
    "        newTheta = linear_reg(samples,skl_linmod,scaler)\n",
    "        bootstraps.append(newTheta)\n",
    "    return pd.DataFrame(bootstraps)\n",
    "\n",
    "# Fonction appliquant la régression linéaire de sklearn sur des données de airquality \n",
    "# l'observation étant la concentration en ozone\n",
    "# les variables explicatives les 5 autres variables du fichier\n",
    "# data : jeu de données\n",
    "# skl_linmod : modèle sklearn\n",
    "# scaler : formatteur\n",
    "# La fonction retourne un tableau des coefficients incluant l'ordonnée à l'origine\n",
    "def linear_reg(data,skl_linmod,scaler):\n",
    "    X=data[['Solar.R','Wind','Temp','Month','Day']]\n",
    "    Y=data['Ozone']\n",
    "    scaler = preprocessing.StandardScaler().fit(X)\n",
    "    X=scaler.transform(X)\n",
    "    skl_linmod.fit(X, Y)\n",
    "    theta = skl_linmod.coef_[:]\n",
    "    theta = np.insert(theta,0,skl_linmod.intercept_)\n",
    "    return theta\n",
    "\n",
    "bootstraps = bootstrap_linear(data, 10000, None,skl_linmod,scaler)\n",
    "bootstraps.columns=['Intercept','Solar.R','Wind','Temp','Month','Day']\n"
   ]
  },
  {
   "cell_type": "code",
   "execution_count": 75,
   "metadata": {
    "collapsed": false
   },
   "outputs": [
    {
     "data": {
      "text/plain": [
       "Intercept    42.127911\n",
       "Solar.R       4.570308\n",
       "Wind        -11.769231\n",
       "Temp         17.880432\n",
       "Month        -4.401369\n",
       "Day           2.423097\n",
       "dtype: float64"
      ]
     },
     "execution_count": 75,
     "metadata": {},
     "output_type": "execute_result"
    }
   ],
   "source": [
    "bootstraps.mean()"
   ]
  },
  {
   "cell_type": "code",
   "execution_count": 76,
   "metadata": {
    "collapsed": false
   },
   "outputs": [
    {
     "data": {
      "text/plain": [
       "Intercept    42.054054\n",
       "Solar.R       4.530135\n",
       "Wind        -11.641544\n",
       "Temp         17.867149\n",
       "Month        -4.383086\n",
       "Day           2.447134\n",
       "dtype: float64"
      ]
     },
     "execution_count": 76,
     "metadata": {},
     "output_type": "execute_result"
    }
   ],
   "source": [
    "bootstraps.median()"
   ]
  },
  {
   "cell_type": "markdown",
   "metadata": {},
   "source": [
    "#### 2) Intervalle de confiance de niveau 99%, en utilisant les quantiles empiriques de niveaux 99.5% et 0.5% des échantillons bootstraps"
   ]
  },
  {
   "cell_type": "code",
   "execution_count": 77,
   "metadata": {
    "collapsed": false
   },
   "outputs": [
    {
     "data": {
      "text/html": [
       "<div>\n",
       "<table border=\"1\" class=\"dataframe\">\n",
       "  <thead>\n",
       "    <tr style=\"text-align: right;\">\n",
       "      <th></th>\n",
       "      <th>Intercept</th>\n",
       "      <th>Solar.R</th>\n",
       "      <th>Wind</th>\n",
       "      <th>Temp</th>\n",
       "      <th>Month</th>\n",
       "      <th>Day</th>\n",
       "    </tr>\n",
       "  </thead>\n",
       "  <tbody>\n",
       "    <tr>\n",
       "      <th>0.005</th>\n",
       "      <td>34.414369</td>\n",
       "      <td>-0.075456</td>\n",
       "      <td>-20.415947</td>\n",
       "      <td>11.725272</td>\n",
       "      <td>-9.650420</td>\n",
       "      <td>-3.001871</td>\n",
       "    </tr>\n",
       "    <tr>\n",
       "      <th>0.995</th>\n",
       "      <td>50.666757</td>\n",
       "      <td>9.566730</td>\n",
       "      <td>-4.921800</td>\n",
       "      <td>23.952327</td>\n",
       "      <td>0.861148</td>\n",
       "      <td>7.785468</td>\n",
       "    </tr>\n",
       "  </tbody>\n",
       "</table>\n",
       "</div>"
      ],
      "text/plain": [
       "       Intercept   Solar.R       Wind       Temp     Month       Day\n",
       "0.005  34.414369 -0.075456 -20.415947  11.725272 -9.650420 -3.001871\n",
       "0.995  50.666757  9.566730  -4.921800  23.952327  0.861148  7.785468"
      ]
     },
     "execution_count": 77,
     "metadata": {},
     "output_type": "execute_result"
    }
   ],
   "source": [
    "low_ic_value = 0.005\n",
    "high_ic_value = 0.995\n",
    "bootstraps.quantile([low_ic_value,high_ic_value])"
   ]
  },
  {
   "cell_type": "markdown",
   "metadata": {},
   "source": [
    "#### 3) On fait varier le nombre d'échantillons B de 1 à 5001 par saut de 500 et on calcule les intervalles de  confiances à chaque pas. Pour la variable Wind, on affiche sur un graphe les courbes donnant les bornes inférieures et les bornes supérieures (en pointillés noirs) ainsi que la courbe des estimés par la médiane (en rouge)"
   ]
  },
  {
   "cell_type": "code",
   "execution_count": 78,
   "metadata": {
    "collapsed": false
   },
   "outputs": [
    {
     "data": {
      "image/png": "[encoded data removed]",
      "text/plain": [
       "<matplotlib.figure.Figure at 0xac760f0>"
      ]
     },
     "metadata": {},
     "output_type": "display_data"
    }
   ],
   "source": [
    "# Fonction appliquant itérativement une régression linéaire sur une suite d'échantillons\n",
    "# obtenus par la fontion resample de sklearn et qui sur les coefficients obtenus\n",
    "# détermine un intervalle de confiance\n",
    "# data : jeu de données\n",
    "# n_bootstraps : nombre d'itérations\n",
    "# n_exemples : taille de l'échantillon\n",
    "# low_ic_value : borne inférieure de l'intervalle de confiance\n",
    "# high_ic_value : borne supérieure de l'intervalle de confiance\n",
    "# skl_linmod : modèle sklearn\n",
    "# scaler : formatteur\n",
    "# la fonction retourne d'une part une liste d'intervalles de confiances, d'autre part une liste de moyenne\n",
    "# chaque liste étant indexée par le pas de l'itération\n",
    "def bootstrap_CI(data, n_bootstraps,n_exemples,low_ic_value,high_ic_value,skl_linmod,scaler):\n",
    "    bootstraps = bootstrap_linear(data,n_bootstraps,n_exemples,skl_linmod,scaler)\n",
    "    CIdf = bootstraps.quantile([low_ic_value,high_ic_value])\n",
    "    medianSerie = bootstraps.median()\n",
    "    return CIdf,medianSerie\n",
    "\n",
    "WindMedian=[]\n",
    "WindLowIc=[]\n",
    "WindHighIc=[]\n",
    "\n",
    "#Wind variable correspondant à la seconde colonne\n",
    "for B in range(1,5001,500):\n",
    "    CIdf,MedianSerie = bootstrap_CI(data,B,None,low_ic_value,high_ic_value,skl_linmod,scaler)\n",
    "    WindMedian.append(MedianSerie[2])\n",
    "    WindLowIc.append(CIdf[2][low_ic_value])\n",
    "    WindHighIc.append(CIdf[2][high_ic_value])\n",
    "\n",
    "XWInd = np.arange(1,5001,500)\n",
    "plt.title('Intervalles de confiance et médiane sur la variable Wind')\n",
    "plt.plot(XWInd,WindLowIc,\"k--\")\n",
    "plt.plot(XWInd,WindHighIc,\"k--\")\n",
    "plt.plot(XWInd,WindMedian,color=\"red\")\n",
    "plt.show()\n",
    "\n"
   ]
  },
  {
   "cell_type": "markdown",
   "metadata": {},
   "source": [
    "#### 4) Utiliser lmplot de seaborm pour afficher sur un même graphique les points et les droites de régression correspondant à faire une régression de la variable \"Ozone\" sur \"Wind\" mois par mois, donner le mois qui semble atypique"
   ]
  },
  {
   "cell_type": "code",
   "execution_count": 79,
   "metadata": {
    "collapsed": false
   },
   "outputs": [
    {
     "data": {
      "image/png": "[encoded data removed]",
      "text/plain": [
       "<matplotlib.figure.Figure at 0xad16780>"
      ]
     },
     "metadata": {},
     "output_type": "display_data"
    }
   ],
   "source": [
    "sns.lmplot('Wind','Ozone',hue='Month',data=data,size=7)\n",
    "sns.plt.show()"
   ]
  },
  {
   "cell_type": "markdown",
   "metadata": {},
   "source": [
    "Le mois de juin semble atypique"
   ]
  },
  {
   "cell_type": "markdown",
   "metadata": {},
   "source": [
    "### Exercice 3"
   ]
  },
  {
   "cell_type": "markdown",
   "metadata": {},
   "source": [
    "#### 1)-2) Ecriture de la fonction stpforward (selon le pseudo-code de l'algorithme 1) prenant en arguments : les observations Y, la matrice X et un paramètre M nombre maximum de variables sélectionnées. En sortie, elle renvoie le vecteur  ${\\theta}$ et la liste des S des indices sélectionnés. Le vecteur ${\\theta}$ a les coordonnées nulles sauf les ${\\theta}_j$ pour j appartenant à S.  Cette fonction est membre de la classe MYOMP dont le code est donné ci-dessous"
   ]
  },
  {
   "cell_type": "code",
   "execution_count": 83,
   "metadata": {
    "collapsed": false
   },
   "outputs": [],
   "source": [
    "class MYOMP(LinearModel, RegressorMixin):\n",
    "    def __init__(self, n_nonzero_coefs=None, fit_intercept=True,normalize=True, precompute='auto'):\n",
    "        self.n_nonzero_coefs = n_nonzero_coefs\n",
    "        self.fit_intercept = fit_intercept\n",
    "        self.normalize = normalize\n",
    "        self.precompute = precompute\n",
    "\n",
    "    def fit(self, X, y):\n",
    "        \"\"\"Fit the model using X, y as training data.\n",
    "        Parameters\n",
    "        ----------\n",
    "        X : array-like, shape (n_samples, n_features)\n",
    "        Training data.\n",
    "        y : array-like, shape (n_samples,) or (n_samples, n_targets)\n",
    "        Target values.\n",
    "        Returns\n",
    "        -------\n",
    "        self : object\n",
    "        returns an instance of self.\n",
    "        \"\"\"\n",
    "        X, y, X_mean, y_mean, X_std, Gram, Xy = \\\n",
    "        _pre_fit(X, y, None, self.precompute, self.normalize,\n",
    "        self.fit_intercept, copy=True)\n",
    "        self.coef_,self.featuresIndex_=self.stpforward(X,y)\n",
    "        self._set_intercept(X_mean, y_mean, X_std)\n",
    "        return self\n",
    "\n",
    "    def stpforward(self,X,y,M=None):\n",
    "        r=y\n",
    "        S=[]\n",
    "        if M==None:\n",
    "            M=self.n_nonzero_coefs\n",
    "        if self.normalize:\n",
    "            preprocessing.scale(X)\n",
    "        # Normalization in LinearRegression is not the same as the preprocessing.scale (?)\n",
    "        skl_linmod = linear_model.LinearRegression(True, self.fit_intercept, False)\n",
    "        if  M==None :\n",
    "            # Régression standard\n",
    "            skl_linmod.fit(X, Y)\n",
    "            newCoef = skl_linmod.coef_[:]\n",
    "        else :\n",
    "            Xs=np.zeros((y.size,M))\n",
    "            for m in range(0,M):\n",
    "                # Sélection du meilleur produit scalaire sur les variables non déjà sélectionnées\n",
    "                diffList = list(set(range(0,M)) - set(S))\n",
    "                scalarProducDic={}\n",
    "                for i in diffList:\n",
    "                    scalarProducDic[i]=r.dot(X[:,i])\n",
    "                maxScalarProduct = max(list(scalarProducDic.values()))\n",
    "                for k,v in scalarProducDic.items():\n",
    "                    if v == maxScalarProduct:\n",
    "                        maxScalarProductIndex=k\n",
    "                        break\n",
    "                S.append(maxScalarProductIndex)\n",
    "                # Calcul du résidu de la régression pour la variable sélectionnée\n",
    "                Xs[:,m]=X[:,maxScalarProductIndex]\n",
    "                X1 = np.zeros((y.size,1))\n",
    "                X1[:,0]=X[:,maxScalarProductIndex]\n",
    "                skl_linmod.fit(X1, Y)\n",
    "                r = Y-skl_linmod.predict(X1)\n",
    "\n",
    "            # Régression avec la matrice des M variables sélectionnées\n",
    "            skl_linmod.fit(Xs, Y)\n",
    "            coef = skl_linmod.coef_[:]\n",
    "            if self.fit_intercept:\n",
    "                self.intercept_ = skl_linmod.intercept_\n",
    "\n",
    "            # Constitution du vecteur final la valeur pour les variables non sélectionnées étant à 0\n",
    "            newCoef=np.zeros(X.shape[1])\n",
    "            for i in range(X.shape[1]):\n",
    "                if i in S:\n",
    "                    newCoef[i] = coef[S.index(i)]\n",
    "\n",
    "        return newCoef,S\n",
    "\n"
   ]
  },
  {
   "cell_type": "markdown",
   "metadata": {},
   "source": [
    "#### 3) Appliquer MYOMP au jeu de données airquality pour M=3,4,5"
   ]
  },
  {
   "cell_type": "code",
   "execution_count": 84,
   "metadata": {
    "collapsed": false
   },
   "outputs": [
    {
     "name": "stdout",
     "output_type": "stream",
     "text": [
      "M= 3  myOmp.coef_= [ 0.05982059 -3.33359131  1.65209291  0.          0.        ]\n",
      "M= 4  myOmp.coef_= [ 0.04959683 -3.3165094   1.87087379 -2.99162786  0.        ]\n",
      "M= 5  myOmp.coef_= [ 0.05027432 -3.31844386  1.89578642 -3.03995664  0.27387752]\n"
     ]
    }
   ],
   "source": [
    "X=data[['Solar.R','Wind','Temp','Month','Day']]\n",
    "Y=data['Ozone']\n",
    "for i in [3,4,5]:\n",
    "    myOmp = MYOMP(i)\n",
    "    myOmp = myOmp.fit(X,Y)\n",
    "    print(\"M=\",i,\" myOmp.coef_=\",myOmp.coef_)"
   ]
  },
  {
   "cell_type": "markdown",
   "metadata": {},
   "source": [
    "#### 4) Comparer votre sortie avec celle de OrthogonalMatchingPursuit de sklearn ."
   ]
  },
  {
   "cell_type": "code",
   "execution_count": 85,
   "metadata": {
    "collapsed": false
   },
   "outputs": [
    {
     "name": "stdout",
     "output_type": "stream",
     "text": [
      "M= 3  omp.coef= [ 0.05982059 -3.33359131  1.65209291  0.          0.        ]\n",
      "M= 4  omp.coef= [ 0.04959683 -3.3165094   1.87087379 -2.99162786  0.        ]\n",
      "M= 5  omp.coef= [ 0.05027432 -3.31844386  1.89578642 -3.03995664  0.27387752]\n"
     ]
    }
   ],
   "source": [
    "\n",
    "for i in [3,4,5]:\n",
    "    omp = linear_model.OrthogonalMatchingPursuit(n_nonzero_coefs=i)\n",
    "    omp.fit(X, Y)\n",
    "    print(\"M=\",i,\" omp.coef=\",omp.coef_)\n"
   ]
  },
  {
   "cell_type": "markdown",
   "metadata": {},
   "source": [
    "Les résultats sont identiques"
   ]
  }
 ],
 "metadata": {
  "kernelspec": {
   "display_name": "Python 3",
   "language": "python",
   "name": "python3"
  },
  "language_info": {
   "codemirror_mode": {
    "name": "ipython",
    "version": 3
   },
   "file_extension": ".py",
   "mimetype": "text/x-python",
   "name": "python",
   "nbconvert_exporter": "python",
   "pygments_lexer": "ipython3",
   "version": "3.4.3"
  }
 },
 "nbformat": 4,
 "nbformat_minor": 0
}
